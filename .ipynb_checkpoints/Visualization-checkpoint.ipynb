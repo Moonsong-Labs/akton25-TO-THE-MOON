{
 "cells": [
  {
   "cell_type": "code",
   "execution_count": 2,
   "id": "ff534555",
   "metadata": {},
   "outputs": [],
   "source": [
    "import pandas as pd\n",
    "import numpy as np\n",
    "\n",
    "import matplotlib.pyplot as plt\n",
    "from   matplotlib import colors\n",
    "import seaborn as sns\n",
    "\n",
    "import json\n",
    "import os\n",
    "from pathlib import Path\n",
    "from glob import glob\n",
    "\n",
    "from subprocess import Popen, PIPE, STDOUT"
   ]
  },
  {
   "cell_type": "code",
   "execution_count": 3,
   "id": "0412697d",
   "metadata": {},
   "outputs": [],
   "source": [
    "# Loading JSON data\n",
    "def load_json(file_path):\n",
    "    with open(file_path) as f:\n",
    "        data = json.load(f)\n",
    "    return data"
   ]
  },
  {
   "cell_type": "code",
   "execution_count": 15,
   "id": "efd1e3a3-20fb-4b36-afe5-21b245e552aa",
   "metadata": {},
   "outputs": [],
   "source": [
    "training_00576224   = load_json('data/training/00576224.json')"
   ]
  },
  {
   "cell_type": "code",
   "execution_count": 5,
   "id": "dd81f9bd-934e-46d1-9acc-ff8c70b317f5",
   "metadata": {},
   "outputs": [
    {
     "data": {
      "image/png": "[encoded data removed]",
      "text/plain": [
       "<Figure size 450x150 with 1 Axes>"
      ]
     },
     "metadata": {},
     "output_type": "display_data"
    }
   ],
   "source": [
    "# 0:black, 1:blue, 2:red, 3:green, 4:yellow, # 5:gray, 6:magenta, 7:orange, 8:sky, 9:brown\n",
    "\n",
    "cmap = colors.ListedColormap(\n",
    "    ['#000000', '#0074D9', '#FF4136', '#2ECC40', '#FFDC00',\n",
    "     '#AAAAAA', '#F012BE', '#FF851B', '#7FDBFF', '#870C25'])\n",
    "norm = colors.Normalize(vmin=0, vmax=9)\n",
    "\n",
    "plt.figure(figsize=(3, 1), dpi=150)\n",
    "plt.imshow([list(range(10))], cmap=cmap, norm=norm)\n",
    "plt.xticks(list(range(10)))\n",
    "plt.yticks([])\n",
    "plt.show()"
   ]
  },
  {
   "cell_type": "code",
   "execution_count": 17,
   "id": "78450662-ce08-403d-81cb-834879d98192",
   "metadata": {},
   "outputs": [],
   "source": [
    "def plot_task(task, task_solutions):\n",
    "    \"\"\"    Plots the first train and test pairs of a specified task,\n",
    "    using same color scheme as the ARC app    \"\"\"    \n",
    "    fs=12    \n",
    "    num_train = len(task['train'])\n",
    "    #num_test  = len(task['test'])\n",
    "    num_test  = 1\n",
    "    \n",
    "    w=num_train+num_test\n",
    "    fig, axs  = plt.subplots(2, w, figsize=(2*w,2*2))\n",
    "    #fig, axs  = plt.subplots(2, w, figsize=(1.5*w, 1.5*2))\n",
    "    plt.suptitle(f'Set #{i}, {t}:', fontsize=fs, fontweight='bold', y=1)\n",
    "    #plt.subplots_adjust(hspace = 0.15)\n",
    "    #plt.subplots_adjust(wspace=20, hspace=20)\n",
    "    \n",
    "    for j in range(num_train):     \n",
    "        plot_one(axs[0, j], j,task, 'train', 'input')\n",
    "        plot_one(axs[1, j], j,task,'train', 'output')        \n",
    "    \n",
    "    plot_one(axs[0, j+1], 0, task, 'test', 'input')\n",
    "\n",
    "    answer = task['test']\n",
    "    input_matrix = answer\n",
    "    \n",
    "    axs[1, j+1].imshow(input_matrix, cmap=cmap, norm=norm)\n",
    "    axs[1, j+1].grid(True, which = 'both',color = 'lightgrey', linewidth = 0.5)\n",
    "    axs[1, j+1].set_yticks([x-0.5 for x in range(1 + len(input_matrix))])\n",
    "    axs[1, j+1].set_xticks([x-0.5 for x in range(1 + len(input_matrix[0]))])     \n",
    "    axs[1, j+1].set_xticklabels([])\n",
    "    axs[1, j+1].set_yticklabels([])\n",
    "    axs[1, j+1].set_title('Test output')\n",
    "\n",
    "    axs[1, j+1] = plt.figure(1).add_subplot(111)\n",
    "    axs[1, j+1].set_xlim([0, num_train+1])\n",
    "    \n",
    "    for m in range(1, num_train):\n",
    "        axs[1, j+1].plot([m,m],[0,1],'--', linewidth=1, color = 'black')\n",
    "    \n",
    "    axs[1, j+1].plot([num_train,num_train],[0,1],'-', linewidth=3, color = 'black')\n",
    "\n",
    "    axs[1, j+1].axis(\"off\")\n",
    "\n",
    "    fig.patch.set_linewidth(5)\n",
    "    fig.patch.set_edgecolor('black') \n",
    "    fig.patch.set_facecolor('#dddddd')\n",
    "   \n",
    "    plt.tight_layout()\n",
    "    \n",
    "    print(f'#{i}, {t}') # for fast and convinience search\n",
    "    plt.show()\n",
    "\n",
    "    print()\n",
    "    \n",
    "    \n",
    "def plot_one(ax, i, task, train_or_test, input_or_output):\n",
    "    fs=12 \n",
    "    input_matrix = task[train_or_test][i][input_or_output]\n",
    "    ax.imshow(input_matrix, cmap=cmap, norm=norm)\n",
    "    ax.grid(True, which = 'both',color = 'lightgrey', linewidth = 0.5)\n",
    "    \n",
    "    plt.setp(plt.gcf().get_axes(), xticklabels=[], yticklabels=[])\n",
    "    ax.set_xticks([x-0.5 for x in range(1 + len(input_matrix[0]))])     \n",
    "    ax.set_yticks([x-0.5 for x in range(1 + len(input_matrix))])\n",
    "    \n",
    "    ax.set_title(train_or_test + ' ' + input_or_output, fontsize=fs-2)"
   ]
  },
  {
   "cell_type": "code",
   "execution_count": 18,
   "id": "b7990df2-301f-4fac-909a-b4c685dd0fc8",
   "metadata": {},
   "outputs": [
    {
     "data": {
      "text/plain": [
       "{'train': [{'input': [[7, 9], [4, 3]],\n",
       "   'output': [[7, 9, 7, 9, 7, 9],\n",
       "    [4, 3, 4, 3, 4, 3],\n",
       "    [9, 7, 9, 7, 9, 7],\n",
       "    [3, 4, 3, 4, 3, 4],\n",
       "    [7, 9, 7, 9, 7, 9],\n",
       "    [4, 3, 4, 3, 4, 3]]},\n",
       "  {'input': [[8, 6], [6, 4]],\n",
       "   'output': [[8, 6, 8, 6, 8, 6],\n",
       "    [6, 4, 6, 4, 6, 4],\n",
       "    [6, 8, 6, 8, 6, 8],\n",
       "    [4, 6, 4, 6, 4, 6],\n",
       "    [8, 6, 8, 6, 8, 6],\n",
       "    [6, 4, 6, 4, 6, 4]]}],\n",
       " 'test': [{'input': [[3, 2], [7, 8]],\n",
       "   'output': [[3, 2, 3, 2, 3, 2],\n",
       "    [7, 8, 7, 8, 7, 8],\n",
       "    [2, 3, 2, 3, 2, 3],\n",
       "    [8, 7, 8, 7, 8, 7],\n",
       "    [3, 2, 3, 2, 3, 2],\n",
       "    [7, 8, 7, 8, 7, 8]]}]}"
      ]
     },
     "execution_count": 18,
     "metadata": {},
     "output_type": "execute_result"
    }
   ],
   "source": [
    "training_00576224"
   ]
  },
  {
   "cell_type": "code",
   "execution_count": null,
   "id": "45a41c1d-6413-4150-bdfe-4d0e21b76ff8",
   "metadata": {},
   "outputs": [],
   "source": []
  }
 ],
 "metadata": {
  "kernelspec": {
   "display_name": "Python 3 (ipykernel)",
   "language": "python",
   "name": "python3"
  },
  "language_info": {
   "codemirror_mode": {
    "name": "ipython",
    "version": 3
   },
   "file_extension": ".py",
   "mimetype": "text/x-python",
   "name": "python",
   "nbconvert_exporter": "python",
   "pygments_lexer": "ipython3",
   "version": "3.13.2"
  }
 },
 "nbformat": 4,
 "nbformat_minor": 5
}
